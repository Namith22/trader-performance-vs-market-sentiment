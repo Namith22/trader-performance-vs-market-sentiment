{
  "cells": [
    {
      "cell_type": "markdown",
      "source": [
        "# Analysis of Trader Performance vs. Market Sentiment\n",
        "\n",
        "## Project Overview\n",
        "\n",
        "This project conducts a detailed analysis of the relationship between trader performance, using historical data from Hyperliquid, and market sentiment, as measured by the Bitcoin Fear & Greed Index. The primary objective is to uncover actionable patterns in profitability, trading volume, risk, and strategy (long vs. short) under different market conditions. The insights are intended to help drive the development of smarter, data-driven trading strategies.\n",
        "\n",
        "---\n",
        "\n",
        "## Directory Structure\n",
        "\n",
        "The project is organized into the following structure to ensure clarity and reproducibility:\n",
        "\n",
        "-   `notebook_1.ipynb`: The main Google Colab notebook containing all Python code for data loading, cleaning, analysis, and visualization.\n",
        "-   `csv_files/`: Stores all tabular data outputs.\n",
        "    -   `performance_summary.csv`: A summary table of key performance metrics by market sentiment.\n",
        "-   `outputs/`: Stores all visual outputs from the analysis.\n",
        "    -   `pnl_by_sentiment.png`: Total profit and loss by sentiment.\n",
        "    -   `volume_by_sentiment.png`: Total trading volume by sentiment.\n",
        "    -   `success_rate_by_sentiment.png`: Percentage of profitable trades by sentiment.\n",
        "    -   `volume_vs_sentiment_timeseries.png`: Daily trading volume vs. the Fear & Greed Index.\n",
        "    -   `pnl_distribution_by_sentiment.png`: Box plot showing the distribution and risk of PnL.\n",
        "    -   `trade_size_distribution_by_sentiment.png`: Box plot showing the distribution of trade sizes.\n",
        "    -   `pnl_by_trade_side.png`: Grouped bar chart comparing PnL for BUY vs. SELL trades.\n",
        "    -   `pnl_by_top_coins.png`: Bar chart showing PnL for the top 5 most-traded coins.\n",
        "-   `README.md`: This file, providing a complete overview and setup instructions.\n",
        "\n",
        "---\n",
        "\n",
        "## How to Run\n",
        "\n",
        "1.  **Environment**: This project is designed to be run in a Google Colab environment.\n",
        "2.  **Data**: Upload the `fear_greed_index.csv` and `historical_data.csv` files to the root directory of your Colab session.\n",
        "3.  **Execution**: Open `notebook_1.ipynb` and run all the cells sequentially. The script will automatically create the `csv_files/` and `outputs/` directories and save all the analysis files.\n",
        "\n",
        "---\n",
        "\n",
        "## Key Findings & Insights\n",
        "\n",
        "The analysis revealed several significant patterns connecting trader behavior to market sentiment:\n",
        "\n",
        "### High-Level Trends\n",
        "* **\"Fear\" Drives Profit and Volume**: The **highest total profit** and **greatest trading volume** are generated during periods of \"Fear.\" This suggests that volatile conditions or contrarian strategies (buying when others are fearful) are highly effective for this cohort of traders.\n",
        "* **\"Extreme Greed\" Has the Highest Win Rate**: While \"Fear\" generates the most absolute profit, trades made during \"Extreme Greed\" have the **highest success rate** (46.5% of trades are profitable). This indicates that while traders may be more cautious, their individual bets are more consistently successful when the market is euphoric.\n",
        "\n",
        "### Deeper Insights from Advanced Visualizations\n",
        "* **PnL Distribution Reveals Risk**: The box plot of PnL shows that while \"Fear\" has the highest total profit, it also comes with a very wide distribution of outcomes, indicating **higher risk**. In contrast, \"Extreme Greed\" shows a tighter, more consistent range of profits.\n",
        "* **\"Fear\" Encourages Larger, Bolder Trades**: The trade size distribution shows that the **median trade size is largest during periods of \"Fear\"**, suggesting traders are more confident and willing to commit more capital during these times, likely to capitalize on perceived market bottoms.\n",
        "* **Trade Side Strategy is Key**: The analysis of BUY vs. SELL trades reveals a crucial pattern: **BUY (long) positions are significantly more profitable across all sentiment types**, especially during \"Fear\" and \"Greed.\" SELL (short) positions, on the other hand, consistently contribute much less to overall profitability.\n",
        "* **Coin-Specific Performance**: The profitability analysis of the top 5 coins shows that performance is not uniform. Certain coins, like **BTC and ETH**, are major profit drivers, especially during \"Fear\" and \"Greed,\" while others may perform differently, highlighting the need for asset-specific strategies."
      ],
      "metadata": {
        "id": "gwBME7i1zrfJ"
      }
    },
    {
      "cell_type": "code",
      "source": [
        "import pandas as pd\n",
        "import matplotlib.pyplot as plt\n",
        "import seaborn as sns\n",
        "import os\n",
        "\n",
        "# --- 1. Setup: Create directories as per the required structure ---\n",
        "csv_output_dir = 'csv_files'\n",
        "visual_output_dir = 'outputs'\n",
        "\n",
        "if not os.path.exists(csv_output_dir):\n",
        "    os.makedirs(csv_output_dir)\n",
        "if not os.path.exists(visual_output_dir):\n",
        "    os.makedirs(visual_output_dir)\n"
      ],
      "metadata": {
        "id": "UaSFT_U1q017"
      },
      "execution_count": null,
      "outputs": []
    },
    {
      "cell_type": "code",
      "source": [
        "# --- 2. Data Loading ---\n",
        "# Load the datasets\n",
        "try:\n",
        "    df_sentiment = pd.read_csv('/content/fear_greed_index.csv')\n",
        "    df_trades = pd.read_csv('/content/historical_data.csv')\n",
        "except FileNotFoundError as e:\n",
        "    print(f\"Error loading data: {e}. Please make sure the files are in the correct directory.\")\n",
        "    # Exit if files are not found\n",
        "    exit()\n"
      ],
      "metadata": {
        "colab": {
          "base_uri": "https://localhost:8080/"
        },
        "id": "7NoiSf4Yrof2",
        "outputId": "755a9bb9-0885-4449-ca09-03f5bbca1536"
      },
      "execution_count": null,
      "outputs": [
        {
          "output_type": "stream",
          "name": "stderr",
          "text": [
            "/tmp/ipython-input-4265536322.py:5: DtypeWarning: Columns (12) have mixed types. Specify dtype option on import or set low_memory=False.\n",
            "  df_trades = pd.read_csv('/content/historical_data.csv')\n"
          ]
        }
      ]
    },
    {
      "cell_type": "code",
      "source": [
        "# --- 3. Data Preprocessing and Cleaning ---\n",
        "# Convert date/timestamp columns to datetime objects\n",
        "df_sentiment['date'] = pd.to_datetime(df_sentiment['date'])\n",
        "df_trades['timestamp_dt'] = pd.to_datetime(df_trades['Timestamp IST'], format='%d-%m-%Y %H:%M')\n",
        "df_trades['date'] = df_trades['timestamp_dt'].dt.date\n",
        "df_trades['date'] = pd.to_datetime(df_trades['date'])\n",
        "\n",
        "# Clean and convert numeric columns\n",
        "numeric_cols = ['Size USD', 'Closed PnL']\n",
        "for col in numeric_cols:\n",
        "    df_trades[col] = pd.to_numeric(df_trades[col], errors='coerce')\n",
        "df_trades.dropna(subset=numeric_cols, inplace=True)\n",
        "\n",
        "# --- 4. Merging Datasets ---\n",
        "df_merged = pd.merge(df_trades, df_sentiment, on='date', how='inner')\n",
        "\n",
        "sns.set_style(\"whitegrid\")\n",
        "df_merged['is_profitable'] = df_merged['Closed PnL'] > 0\n"
      ],
      "metadata": {
        "id": "99xdK5Slrpez"
      },
      "execution_count": null,
      "outputs": []
    },
    {
      "cell_type": "code",
      "source": [
        "# Plot 1: Total PnL by Market Sentiment\n",
        "plt.figure(figsize=(10, 6))\n",
        "pnl_by_sentiment = df_merged.groupby('classification')['Closed PnL'].sum().reset_index().sort_values(by='Closed PnL', ascending=False)\n",
        "sns.barplot(data=pnl_by_sentiment, x='classification', y='Closed PnL', palette='viridis')\n",
        "plt.title('Total Profit and Loss (PnL) by Market Sentiment', fontsize=16)\n",
        "plt.xlabel('Market Sentiment', fontsize=12)\n",
        "plt.ylabel('Total Closed PnL (in USD)', fontsize=12)\n",
        "plt.tight_layout()\n",
        "plt.savefig(f\"{visual_output_dir}/pnl_by_sentiment.png\")\n",
        "plt.close()"
      ],
      "metadata": {
        "colab": {
          "base_uri": "https://localhost:8080/"
        },
        "id": "8KxGZd7Vr2sD",
        "outputId": "7928ecb1-4e8e-4e83-e733-012c1ad1b4fa"
      },
      "execution_count": null,
      "outputs": [
        {
          "output_type": "stream",
          "name": "stderr",
          "text": [
            "/tmp/ipython-input-2543101469.py:4: FutureWarning: \n",
            "\n",
            "Passing `palette` without assigning `hue` is deprecated and will be removed in v0.14.0. Assign the `x` variable to `hue` and set `legend=False` for the same effect.\n",
            "\n",
            "  sns.barplot(data=pnl_by_sentiment, x='classification', y='Closed PnL', palette='viridis')\n"
          ]
        }
      ]
    },
    {
      "cell_type": "code",
      "source": [
        "# Plot 2: Total Trading Volume by Market Sentiment\n",
        "plt.figure(figsize=(10, 6))\n",
        "volume_by_sentiment = df_merged.groupby('classification')['Size USD'].sum().reset_index().sort_values(by='Size USD', ascending=False)\n",
        "sns.barplot(data=volume_by_sentiment, x='classification', y='Size USD', palette='plasma')\n",
        "plt.title('Total Trading Volume by Market Sentiment', fontsize=16)\n",
        "plt.xlabel('Market Sentiment', fontsize=12)\n",
        "plt.ylabel('Total Trading Volume (in USD)', fontsize=12)\n",
        "plt.tight_layout()\n",
        "plt.savefig(f\"{visual_output_dir}/volume_by_sentiment.png\")\n",
        "plt.close()"
      ],
      "metadata": {
        "colab": {
          "base_uri": "https://localhost:8080/"
        },
        "id": "EEFjRkLssSCX",
        "outputId": "7020342e-69ae-4175-c499-b8d57e7e07e4"
      },
      "execution_count": null,
      "outputs": [
        {
          "output_type": "stream",
          "name": "stderr",
          "text": [
            "/tmp/ipython-input-2056496496.py:4: FutureWarning: \n",
            "\n",
            "Passing `palette` without assigning `hue` is deprecated and will be removed in v0.14.0. Assign the `x` variable to `hue` and set `legend=False` for the same effect.\n",
            "\n",
            "  sns.barplot(data=volume_by_sentiment, x='classification', y='Size USD', palette='plasma')\n"
          ]
        }
      ]
    },
    {
      "cell_type": "code",
      "source": [
        "#--- Visualization 1: Donut Chart of Trade Count by Sentiment ---\n",
        "# A donut chart is a variation of a pie chart, showing parts of a whole.\n",
        "plt.figure(figsize=(10, 8))\n",
        "sentiment_counts = df_merged['classification'].value_counts()\n",
        "plt.pie(sentiment_counts, labels=sentiment_counts.index, autopct='%1.1f%%', startangle=90, pctdistance=0.85, colors=sns.color_palette('YlGnBu'))\n",
        "\n",
        "# Draw a circle at the center to make it a donut\n",
        "centre_circle = plt.Circle((0,0),0.70,fc='white')\n",
        "fig = plt.gcf()\n",
        "fig.gca().add_artist(centre_circle)\n",
        "\n",
        "plt.title('Proportion of Trades by Market Sentiment', fontsize=16)\n",
        "plt.tight_layout()\n",
        "plt.savefig(f\"{visual_output_dir}/trades_by_sentiment_donut_chart.png\")\n",
        "plt.close()\n",
        "print(f\"Saved: trades_by_sentiment_donut_chart.png\")\n",
        "\n",
        "\n",
        "# --- Visualization 2: Scatter Plot of Trade Size vs. PnL ---\n",
        "# This helps identify if larger trades lead to larger profits or losses.\n",
        "# We'll use a sample to avoid overplotting and apply a log scale for better visibility.\n",
        "plt.figure(figsize=(12, 8))\n",
        "df_sample = df_merged.sample(n=5000, random_state=42) # Use a random sample for clarity\n",
        "\n",
        "sns.scatterplot(\n",
        "    data=df_sample,\n",
        "    x='Size USD',\n",
        "    y='Closed PnL',\n",
        "    hue='classification',\n",
        "    palette='viridis',\n",
        "    alpha=0.6,\n",
        "    size='Size USD',  # Make larger trades appear as larger points\n",
        "    sizes=(20, 400)\n",
        ")\n",
        "\n",
        "plt.title('Trade Size vs. PnL by Market Sentiment (Sampled)', fontsize=16)\n",
        "plt.xlabel('Trade Size (USD) - Log Scale', fontsize=12)\n",
        "plt.ylabel('Closed PnL (USD)', fontsize=12)\n",
        "plt.xscale('log') # Use a log scale for the x-axis due to wide range of trade sizes\n",
        "plt.axhline(0, color='red', linestyle='--', lw=1) # Add a line at PnL=0\n",
        "plt.legend(title='Sentiment')\n",
        "plt.tight_layout()\n",
        "plt.savefig(f\"{visual_output_dir}/size_vs_pnl_scatter.png\")\n",
        "plt.close()\n",
        "print(f\"Saved: size_vs_pnl_scatter.png\")\n",
        "\n",
        "\n",
        "\n",
        "\n",
        "\n"
      ],
      "metadata": {
        "colab": {
          "base_uri": "https://localhost:8080/"
        },
        "id": "DDNPo59o59ot",
        "outputId": "6f70d5e2-3f27-49d0-93ae-9a39f4de7156"
      },
      "execution_count": null,
      "outputs": [
        {
          "output_type": "stream",
          "name": "stdout",
          "text": [
            "Saved: trades_by_sentiment_donut_chart.png\n",
            "Saved: size_vs_pnl_scatter.png\n"
          ]
        }
      ]
    },
    {
      "cell_type": "code",
      "source": [
        "#--- Visualization 1: Cumulative PnL Curve (Equity Curve) ---\n",
        "plt.figure(figsize=(14, 7))\n",
        "# Sort by time to ensure the cumulative sum is correct\n",
        "df_sorted = df_merged.sort_values('timestamp_dt')\n",
        "df_sorted['cumulative_pnl'] = df_sorted['Closed PnL'].cumsum()\n",
        "plt.plot(df_sorted['timestamp_dt'], df_sorted['cumulative_pnl'])\n",
        "plt.title('Cumulative PnL Over Time (Equity Curve)', fontsize=16)\n",
        "plt.xlabel('Date', fontsize=12)\n",
        "plt.ylabel('Cumulative Profit & Loss (USD)', fontsize=12)\n",
        "plt.fill_between(df_sorted['timestamp_dt'], df_sorted['cumulative_pnl'], 0, alpha=0.1)\n",
        "plt.tight_layout()\n",
        "plt.savefig(f\"{visual_output_dir}/cumulative_pnl_curve.png\")\n",
        "plt.close()\n",
        "print(f\"Saved: cumulative_pnl_curve.png\")\n",
        "\n",
        "# --- Visualization 2: Calendar Heatmap of Daily PnL ---\n",
        "# This requires more advanced data manipulation with pandas.\n",
        "daily_pnl = df_merged.groupby('date')['Closed PnL'].sum().reset_index()\n",
        "daily_pnl['year'] = daily_pnl['date'].dt.year\n",
        "daily_pnl['day_of_week'] = daily_pnl['date'].dt.dayofweek\n",
        "daily_pnl['week_of_year'] = daily_pnl['date'].dt.isocalendar().week\n",
        "\n",
        "years = daily_pnl['year'].unique()\n",
        "for year in years:\n",
        "    plt.figure(figsize=(16, 4))\n",
        "    year_data = daily_pnl[daily_pnl['year'] == year]\n",
        "    pivot_data = year_data.pivot_table(values='Closed PnL', index='day_of_week', columns='week_of_year')\n",
        "    sns.heatmap(pivot_data, cmap='RdYlGn', center=0, linewidths=.5, cbar_kws={'label': 'PnL (USD)'})\n",
        "    plt.title(f'Daily PnL Calendar Heatmap for {year}', fontsize=16)\n",
        "    plt.xlabel('Week of Year', fontsize=12)\n",
        "    plt.ylabel('Day of Week', fontsize=12)\n",
        "    plt.yticks(ticks=range(7), labels=['Mon', 'Tue', 'Wed', 'Thu', 'Fri', 'Sat', 'Sun'], rotation=0)\n",
        "    plt.tight_layout()\n",
        "    plt.savefig(f\"{visual_output_dir}/pnl_calendar_heatmap_{year}.png\")\n",
        "    plt.close()\n",
        "    print(f\"Saved: pnl_calendar_heatmap_{year}.png\")\n",
        "\n",
        "\n",
        "# --- Visualization 3: Time Series with Rolling Averages ---\n",
        "daily_agg = df_merged.groupby('date').agg({'Size USD': 'sum', 'value': 'first'}).reset_index()\n",
        "# Calculate rolling averages\n",
        "daily_agg['vol_7_day_avg'] = daily_agg['Size USD'].rolling(window=7).mean()\n",
        "daily_agg['vol_30_day_avg'] = daily_agg['Size USD'].rolling(window=30).mean()\n",
        "\n",
        "fig, ax1 = plt.subplots(figsize=(14, 7))\n",
        "# Primary Axis (Volume)\n",
        "ax1.bar(daily_agg['date'], daily_agg['Size USD'], color='lightblue', label='Daily Volume (USD)')\n",
        "ax1.plot(daily_agg['date'], daily_agg['vol_7_day_avg'], color='blue', lw=2, label='7-Day Avg. Volume')\n",
        "ax1.plot(daily_agg['date'], daily_agg['vol_30_day_avg'], color='navy', lw=2, label='30-Day Avg. Volume')\n",
        "ax1.set_xlabel('Date', fontsize=12)\n",
        "ax1.set_ylabel('Trading Volume (USD)', fontsize=12)\n",
        "\n",
        "# Secondary Axis (Sentiment)\n",
        "ax2 = ax1.twinx()\n",
        "ax2.plot(daily_agg['date'], daily_agg['value'], color='orange', lw=2, label='Fear & Greed Index')\n",
        "ax2.set_ylabel('Fear & Greed Index Score', fontsize=12)\n",
        "\n",
        "plt.title('Daily Volume (with Rolling Averages) and Sentiment Index', fontsize=16)\n",
        "fig.legend(loc=\"upper left\", bbox_to_anchor=(0.1, 0.9))\n",
        "plt.tight_layout()\n",
        "plt.savefig(f\"{visual_output_dir}/volume_timeseries_with_rolling_avg.png\")\n",
        "plt.close()\n",
        "print(f\"Saved: volume_timeseries_with_rolling_avg.png\")\n",
        "\n",
        "# --- Visualization 4: Hexbin Plot for PnL vs. Trade Size Density ---\n",
        "plt.figure(figsize=(12, 8))\n",
        "# Filter for better visualization (excluding extreme PnL)\n",
        "pnl_limit = df_merged['Closed PnL'].quantile(0.95)\n",
        "size_limit = df_merged['Size USD'].quantile(0.95)\n",
        "# Filter out non-positive trade sizes for log scale\n",
        "df_filtered = df_merged[(df_merged['Closed PnL'] <= pnl_limit) & (df_merged['Size USD'] <= size_limit) & (df_merged['Size USD'] > 0)]\n",
        "\n",
        "hb = plt.hexbin(\n",
        "    df_filtered['Size USD'],\n",
        "    df_filtered['Closed PnL'],\n",
        "    gridsize=50,\n",
        "    cmap='inferno',\n",
        "    xscale='log' # Use log scale for trade size\n",
        ")\n",
        "\n",
        "cb = plt.colorbar(hb, label='Trade Count')\n",
        "plt.title('Density of Trades by Size and PnL (Hexbin)', fontsize=16)\n",
        "plt.xlabel('Trade Size (USD) - Log Scale', fontsize=12)\n",
        "plt.ylabel('Closed PnL (USD)', fontsize=12)\n",
        "plt.axhline(0, color='white', linestyle='--', lw=1)\n",
        "plt.tight_layout()\n",
        "plt.savefig(f\"{visual_output_dir}/pnl_vs_size_hexbin.png\")\n",
        "plt.close()\n",
        "print(f\"Saved: pnl_vs_size_hexbin.png\")"
      ],
      "metadata": {
        "colab": {
          "base_uri": "https://localhost:8080/"
        },
        "id": "XrK7X-b7-eVr",
        "outputId": "1bc221dd-ebb9-4ce0-b45d-dc9818930130"
      },
      "execution_count": null,
      "outputs": [
        {
          "output_type": "stream",
          "name": "stdout",
          "text": [
            "Saved: cumulative_pnl_curve.png\n",
            "Saved: pnl_calendar_heatmap_2023.png\n",
            "Saved: pnl_calendar_heatmap_2024.png\n",
            "Saved: pnl_calendar_heatmap_2025.png\n",
            "Saved: volume_timeseries_with_rolling_avg.png\n",
            "Saved: pnl_vs_size_hexbin.png\n"
          ]
        }
      ]
    },
    {
      "cell_type": "code",
      "source": [
        "# --- Visualization 3: KDE Plot of PnL Distributions ---\n",
        "# A Kernel Density Estimate (KDE) plot is a smoothed version of a histogram.\n",
        "# It's excellent for comparing the shape of distributions.\n",
        "plt.figure(figsize=(12, 7))\n",
        "sentiments = df_merged['classification'].unique()\n",
        "\n",
        "for sentiment in sentiments:\n",
        "    subset = df_merged[df_merged['classification'] == sentiment]\n",
        "    # Filter out extreme outliers to make the main distribution visible\n",
        "    pnl_filtered = subset[(subset['Closed PnL'] > -1000) & (subset['Closed PnL'] < 1000)]\n",
        "    sns.kdeplot(pnl_filtered['Closed PnL'], label=sentiment, fill=True, alpha=0.2, lw=2)\n",
        "\n",
        "plt.title('Distribution of Profit & Loss (PnL) by Sentiment', fontsize=16)\n",
        "plt.xlabel('Closed PnL (USD)', fontsize=12)\n",
        "plt.ylabel('Density', fontsize=12)\n",
        "plt.axvline(0, color='black', linestyle='--', lw=1)\n",
        "plt.legend(title='Sentiment')\n",
        "plt.tight_layout()\n",
        "plt.savefig(f\"{visual_output_dir}/pnl_distribution_kde.png\")\n",
        "plt.close()\n",
        "print(f\"Saved: pnl_distribution_kde.png\")"
      ],
      "metadata": {
        "id": "TfykF76M6HAl"
      },
      "execution_count": null,
      "outputs": []
    },
    {
      "cell_type": "code",
      "source": [
        "#Plot 3: Trade Success Rate by Market Sentiment\n",
        "success_rate = df_merged.groupby('classification')['is_profitable'].mean().reset_index()\n",
        "success_rate['success_rate_pct'] = success_rate['is_profitable'] * 100\n",
        "success_rate = success_rate.sort_values(by='success_rate_pct', ascending=False)\n",
        "plt.figure(figsize=(10, 6))\n",
        "sns.barplot(data=success_rate, x='classification', y='success_rate_pct', palette='cividis')\n",
        "plt.title('Trade Success Rate by Market Sentiment', fontsize=16)\n",
        "plt.xlabel('Market Sentiment', fontsize=12)\n",
        "plt.ylabel('Success Rate (%)', fontsize=12)\n",
        "plt.tight_layout()\n",
        "plt.savefig(f\"{visual_output_dir}/success_rate_by_sentiment.png\")\n",
        "plt.close()"
      ],
      "metadata": {
        "id": "-H08rVN8sWfe"
      },
      "execution_count": null,
      "outputs": []
    },
    {
      "cell_type": "code",
      "source": [
        "# Plot 4: Daily Trading Volume vs. Sentiment Index Time Series\n",
        "daily_agg = df_merged.groupby('date').agg({'Size USD': 'sum', 'value': 'first'}).reset_index()\n",
        "fig, ax1 = plt.subplots(figsize=(14, 7))\n",
        "ax1.bar(daily_agg['date'], daily_agg['Size USD'], color='lightblue', label='Trading Volume (USD)')\n",
        "ax1.set_xlabel('Date')\n",
        "ax1.set_ylabel('Trading Volume (USD)', color='skyblue')\n",
        "ax1.tick_params(axis='y', labelcolor='skyblue')\n",
        "ax2 = ax1.twinx()\n",
        "ax2.plot(daily_agg['date'], daily_agg['value'], color='orange', label='Fear & Greed Index')\n",
        "ax2.set_ylabel('Fear & Greed Index', color='orange')\n",
        "ax2.tick_params(axis='y', labelcolor='orange')\n",
        "ax2.set_ylim(0, 100)\n",
        "plt.title('Daily Trading Volume and Fear & Greed Index', fontsize=16)\n",
        "fig.tight_layout()\n",
        "plt.savefig(f\"{visual_output_dir}/volume_vs_sentiment_timeseries.png\")\n",
        "plt.close()\n"
      ],
      "metadata": {
        "id": "sv_embxwswM2"
      },
      "execution_count": null,
      "outputs": []
    },
    {
      "cell_type": "code",
      "source": [
        "\n",
        "# We limit the y-axis to the 99th percentile to make the box plot readable, excluding extreme outliers.\n",
        "plt.figure(figsize=(12, 7))\n",
        "pnl_quantile = df_merged['Closed PnL'].quantile(0.99)\n",
        "df_filtered_pnl = df_merged[df_merged['Closed PnL'] < pnl_quantile]\n",
        "sns.boxplot(data=df_filtered_pnl, x='classification', y='Closed PnL', palette='coolwarm')\n",
        "plt.title('Distribution of Profit & Loss (PnL) by Sentiment (Outliers Hidden)', fontsize=16)\n",
        "plt.xlabel('Market Sentiment', fontsize=12)\n",
        "plt.ylabel('Closed PnL (USD)', fontsize=12)\n",
        "plt.tight_layout()\n",
        "plt.savefig(f\"{visual_output_dir}/pnl_distribution_by_sentiment.png\")\n",
        "plt.close()\n",
        "print(f\"Saved: pnl_distribution_by_sentiment.png\")\n",
        "\n",
        "\n",
        "# This plot shows how trade sizes vary across different sentiment periods.\n",
        "plt.figure(figsize=(12, 7))\n",
        "size_quantile = df_merged['Size USD'].quantile(0.99)\n",
        "df_filtered_size = df_merged[df_merged['Size USD'] < size_quantile]\n",
        "sns.boxplot(data=df_filtered_size, x='classification', y='Size USD', palette='spring')\n",
        "plt.title('Distribution of Trade Size by Sentiment (Outliers Hidden)', fontsize=16)\n",
        "plt.xlabel('Market Sentiment', fontsize=12)\n",
        "plt.ylabel('Trade Size (USD)', fontsize=12)\n",
        "plt.tight_layout()\n",
        "plt.savefig(f\"{visual_output_dir}/trade_size_distribution_by_sentiment.png\")\n",
        "plt.close()\n",
        "print(f\"Saved: trade_size_distribution_by_sentiment.png\")"
      ],
      "metadata": {
        "id": "cOCSTQQkwMOs"
      },
      "execution_count": null,
      "outputs": []
    },
    {
      "cell_type": "code",
      "source": [
        "\n",
        "# This grouped bar chart compares profitability of long (BUY) vs. short (SELL) positions.\n",
        "plt.figure(figsize=(12, 7))\n",
        "pnl_by_side = df_merged.groupby(['classification', 'Side'])['Closed PnL'].sum().reset_index()\n",
        "sns.barplot(data=pnl_by_side, x='classification', y='Closed PnL', hue='Side', palette='muted')\n",
        "plt.title('Total PnL by Trade Side and Market Sentiment', fontsize=16)\n",
        "plt.xlabel('Market Sentiment', fontsize=12)\n",
        "plt.ylabel('Total Closed PnL (USD)', fontsize=12)\n",
        "plt.tight_layout()\n",
        "plt.savefig(f\"{visual_output_dir}/pnl_by_trade_side.png\")\n",
        "plt.close()\n",
        "print(f\"Saved: pnl_by_trade_side.png\")\n",
        "\n",
        "\n",
        "# This plot analyzes performance for the 5 most traded coins.\n",
        "top_coins = df_merged.groupby('Coin')['Size USD'].sum().nlargest(5).index\n",
        "df_top_coins = df_merged[df_merged['Coin'].isin(top_coins)]\n",
        "plt.figure(figsize=(14, 8))\n",
        "pnl_top_coins = df_top_coins.groupby(['Coin', 'classification'])['Closed PnL'].sum().reset_index()\n",
        "sns.barplot(data=pnl_top_coins, x='Coin', y='Closed PnL', hue='classification', palette='Spectral')\n",
        "plt.title('Total PnL for Top 5 Coins by Market Sentiment', fontsize=16)\n",
        "plt.xlabel('Coin', fontsize=12)\n",
        "plt.ylabel('Total Closed PnL (USD)', fontsize=12)\n",
        "plt.xticks(rotation=45)\n",
        "plt.tight_layout()\n",
        "plt.savefig(f\"{visual_output_dir}/pnl_by_top_coins.png\")\n",
        "plt.close()\n",
        "print(f\"Saved: pnl_by_top_coins.png\")\n",
        "\n",
        "print(f\"All visualizations saved to the '{visual_output_dir}/' directory.\")\n",
        "\n"
      ],
      "metadata": {
        "id": "tKmp8xdZwcjl"
      },
      "execution_count": null,
      "outputs": []
    },
    {
      "cell_type": "code",
      "source": [
        "# --- 6. Performance Summary and Export ---\n",
        "performance_summary = df_merged.groupby('classification').agg(\n",
        "    total_pnl=('Closed PnL', 'sum'),\n",
        "    average_pnl=('Closed PnL', 'mean'),\n",
        "    total_volume=('Size USD', 'sum'),\n",
        "    average_trade_size=('Size USD', 'mean'),\n",
        "    number_of_trades=('Account', 'count'),\n",
        "    success_rate=('is_profitable', lambda x: x.mean() * 100)\n",
        ").reset_index().sort_values(by='total_pnl', ascending=False)\n",
        "performance_summary = performance_summary.round(2)\n",
        "\n",
        "summary_path = f\"{csv_output_dir}/performance_summary.csv\"\n",
        "performance_summary.to_csv(summary_path, index=False)\n",
        "\n",
        "print(f\"\\nPerformance summary saved to: {summary_path}\")\n",
        "print(\"\\n--- Performance Summary by Market Sentiment ---\")\n",
        "print(performance_summary)\n",
        "print(\"\\n=== ANALYSIS COMPLETED SUCCESSFULLY ===\")"
      ],
      "metadata": {
        "id": "I5cJwzVyu99h"
      },
      "execution_count": null,
      "outputs": []
    }
  ],
  "metadata": {
    "colab": {
      "provenance": []
    },
    "kernelspec": {
      "display_name": "Python 3",
      "name": "python3"
    },
    "language_info": {
      "name": "python"
    }
  },
  "nbformat": 4,
  "nbformat_minor": 0
}